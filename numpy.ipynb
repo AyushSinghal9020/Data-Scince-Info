{
 "cells": [
  {
   "attachments": {},
   "cell_type": "markdown",
   "metadata": {},
   "source": [
    "# Numpy"
   ]
  },
  {
   "attachments": {},
   "cell_type": "markdown",
   "metadata": {},
   "source": [
    "* `numpy.array` = creates an array \n",
    "1. `object` = array of the object to be created \n",
    "2. `dtype` = data type of the data stored in the array \n",
    "3. `ndmin` = specifies the minimum number of dimensions of the output array\n",
    "* * `numpy.array.shape()` = returns the shape of the array in mxn format\n",
    "* * `numpy.array.dtype()` = returns the data type of the aray \n",
    "* * `numpy.array.size` = returns the number of elements in the array\n",
    "* * `numpy.array.flat` = returns a flat version of the array  \n",
    "* * `numpy.array.ndim` = returns the dimensions of the array \n",
    "* * `numpy.array.nbytes` = returns the total bytes consumed by the array \n",
    "* * `numpy.array.transpose` = returns a transpose of the array\n",
    "* * `numpy.array.sum` = performs the sum of the elements in the array \n",
    "1. `axis` = wether to modify wrt row or column \n",
    "2. `dtype` = defines the data type of the array\n",
    "* * `numpy.array.ravel` = returns a 1-D array\n",
    "* * `numpy.array.reshape()` = reshapes the existing array into a new array\n",
    "1. `newshape` = shape of the new array  \n",
    "* * `numpy.array.argmax` = return the index with maximum number\n",
    "1. `axis` = wether to choose row or column \n",
    "* * `numpy.array.argmin` = return the index with minimum number \n",
    "1. `axis` = wether to choose row or column\n",
    "* * `numpy.array.argsort` = return the indices of the sorted array \n",
    "1. `axis` = wether to choose row or column\n",
    "2. `kind` = defines which kind of sorting algo to use \n",
    "* `numpy.zeroes()` = retruns a array with all the elements as zero\n",
    "1. `shape` = shape of the array to be formed\n",
    "2. `dtype` = defines the datatype\n",
    "* `numpy.empty()` = retruns a array with all the elements as empty values\n",
    "1. `shape` = shape of the array to be formed\n",
    "2. `dtype` = defines the datatype \n",
    "* `numpy.ones()` = retruns a array with all the elements as ones\n",
    "1. `shape` = shape of the array to be formed\n",
    "2. `dtype` = defines the datatype \n",
    "* `numpy.full()` = retruns a array with all the elements as random values\n",
    "1. `shape` = shape of the array to be formed\n",
    "2. `dtype` = defines the datatype \n",
    "* `numpy.zeroes_like` = returns a array of a articular array with all zeroes\n",
    "1. `a` = array ti be replicated with zeroes\n",
    "2. `dtype` = defines the data type\n",
    "* `numpy.empty_like` = returns a array of a articular array with all empty values\n",
    "1. `a` = array ti be replicated with empty values\n",
    "2. `dtype` = defines the data type\n",
    "* `numpy.ones_like` = returns a array of a articular array with all ones\n",
    "1. `a` = array ti be replicated with ones\n",
    "2. `dtype` = defines the data type\n",
    "* `numpy.full_like` = returns a array of a articular array with all random values\n",
    "1. `a` = array ti be replicated with random values\n",
    "2. `dtype` = defines the data type\n",
    "* `numpy.arange()` = returns an array with a range of the provided argument \n",
    "1. `start` = where to start from \n",
    "2. `stop` = where to stop \n",
    "3. `step` = intervals between the range \n",
    "4. `dtype` = defines the daat type \n",
    "* `numpy.linespace()` = returns array of arithemetic proggression numbers \n",
    "1. `start` = where to start from \n",
    "2. `stop` = where to stop\n",
    "3. `endpoint` = wether to must include the end point/stop \n",
    "4. `dtype` = defines the data type \n",
    "5. `axis` = wether to use row or column \n",
    "* `numpy.gemspace()` = returns array of geometric progression numbers \n",
    "1. `start` = where to start from \n",
    "2. `stop` = where to stop\n",
    "3. `endpoint` = wether to must include the end point/stop \n",
    "4. `dtype` = defines the data type \n",
    "5. `axis` = wether to use row or column \n",
    "* `numpy.logspace()` = returns array of logarithmic progression numbers \n",
    "1. `start` = where to start from \n",
    "2. `stop` = where to stop\n",
    "3. `endpoint` = wether to must include the end point/stop\n",
    "4. `base` = base to be used in log \n",
    "5. `dtype` = defines the data type \n",
    "6. `axis` = wether to use row or column \n",
    "* `numpy.identity` = return an array of identity \n",
    "1. `a` = shape of the array to be created\n",
    "2. `dtype` = defines the data type of the array \n"
   ]
  }
 ],
 "metadata": {
  "kernelspec": {
   "display_name": "Python 3",
   "language": "python",
   "name": "python3"
  },
  "language_info": {
   "codemirror_mode": {
    "name": "ipython",
    "version": 3
   },
   "file_extension": ".py",
   "mimetype": "text/x-python",
   "name": "python",
   "nbconvert_exporter": "python",
   "pygments_lexer": "ipython3",
   "version": "3.10.4"
  },
  "orig_nbformat": 4,
  "vscode": {
   "interpreter": {
    "hash": "3ad933181bd8a04b432d3370b9dc3b0662ad032c4dfaa4e4f1596c548f763858"
   }
  }
 },
 "nbformat": 4,
 "nbformat_minor": 2
}

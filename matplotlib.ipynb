{
 "cells": [
  {
   "attachments": {},
   "cell_type": "markdown",
   "metadata": {},
   "source": [
    "# Matplotlib"
   ]
  },
  {
   "attachments": {},
   "cell_type": "markdown",
   "metadata": {},
   "source": [
    "* `matplotlib.pyplot.plot` = plots the line plot \n",
    "1. `args` = data to be plotted \n",
    "2. `color` = color to be used in the graph \n",
    "3. `xdata` = data of the x axis\n",
    "4. `ydata` = data of the y axis\n",
    "5. `label` = label of the graph in string format\n",
    "* `matplotlib.pyplot.scatter` = plots a scatter plot\n",
    "1. `args` = data to be plotted \n",
    "2. `s` = marker size \n",
    "3. `c` = color of the scatter plot \n",
    "4. `marker` = style of the marker \n",
    "5. `vmin , vmax` = range of the scatter plot\n",
    "6. `linewidths` = width of the line \n",
    "* `matplotlib.pyplot.title` = gives the pota a title \n",
    "1. `label` = title in string format\n",
    "2. `dict` = \n",
    "2. * `fontsize` = size of the font \n",
    "2. * `fontweight` = boldness of the font \n",
    "2. * `verticalalaligment` = sets the graph title vertically \n",
    "2. * `horizontalaligmnet` = sets the graph title horizontally \n",
    "3. `loc` = location of the title \n",
    "* `matplotlib.pyplot.xlabel` = labels the x-axis \n",
    "1. `xlabel` = xlabel in string format\n",
    "2. `loc` = location of the title\n",
    "* `matplotlib.pyplot.ylabel` = labels the y-axis \n",
    "1. `ylabel` - ylabel in string format\n",
    "2. `loc` = location of the title \n",
    "* `matplotlib.pyplot.text` = add text in the graoh \n",
    "1. `x,y` = location of the text in corrdinates \n",
    "2. `s` = the text in string \n",
    "3. `fontdict` = a dictionary to overide some values \n",
    "4. `withdash` = wether to underline the text or not \n",
    "* `matplotlib.pyplot.xticks` = ticks on the x-axis\n",
    "1. `ticks` = ticks to use \n",
    "* `matplotlib.pyplot.yticks` = ticks on the y-axis \n",
    "1. `ticks` = ticks to use \n",
    "* `matplotlib.pyplot.legend` = gives the graph a legend \n",
    "1. `labels` = labels to show on the graph \n",
    "2. `loc` = location of the legend \n",
    "3. `ncols` = number of columns the legend should have \n",
    "4. `prop` = font properties of matplotlib\n",
    "5. `fontsize` = size of the font in the legend \n",
    "6. `labelcolor` = color of each label \n",
    "7. `numpoints` = the number of marker points in the legend\n",
    "8. `markerscale`  = size of the legend \n",
    "9. `markerfirst` = wether to place the marker first or the label first \n",
    "10. `frameon` = wether to draw the legend inside/outside the graph \n",
    "11. `fancybox` = wether to use round edges or not\n",
    "12. `shadow` = wether to use shadows or not\n",
    "13. `facecolor` = color of the whole legend \n",
    "14. `title` = title for the legend \n",
    "15. `title_fontproperties` = font properties of the title \n",
    "16. `title_fontsize` = font size of the title \n",
    "17. `alignment` = alignment of the title \n",
    "18. `borderpad` = lenght of the white spaces in the legend \n",
    "19. `labelspacing` = the spacing between the labels\n",
    "* `matplotlib.pyplot.figure` = creates a figure \n",
    "1. `figsize` = size of the figure \n",
    "2. `dpi` = density of pixels per inches \n",
    "3. `facecolor` = color of the figure \n",
    "4. `edgecolor` = color of the edges \n",
    "5. `frameon` = wether to place the figure inside/outside the graph\n",
    "* `matplotlib.pyplot.savefig` = saves the figure \n",
    "1. `fname` = name of the file \n",
    "2. `fpath`  = path to the file \n",
    "3. `dpi` = density of pixels per inches \n",
    "4. `format` - extension of the fie to be used \n",
    "5. `facecolor` = color of the figure \n",
    "6. `edgecolor` = edge color of the figure\n",
    "7. `orientation`  = orientation of the figure \n",
    "8. `transparent`  = wether to save the figure transparent or not \n",
    "* `matplotlib.pyplot.show` = show the graph/figure \n",
    "\n"
   ]
  },
  {
   "cell_type": "markdown",
   "metadata": {},
   "source": []
  }
 ],
 "metadata": {
  "kernelspec": {
   "display_name": "Python 3",
   "language": "python",
   "name": "python3"
  },
  "language_info": {
   "codemirror_mode": {
    "name": "ipython",
    "version": 3
   },
   "file_extension": ".py",
   "mimetype": "text/x-python",
   "name": "python",
   "nbconvert_exporter": "python",
   "pygments_lexer": "ipython3",
   "version": "3.10.4 (main, Nov 29 2022, 20:00:25) [GCC 9.4.0]"
  },
  "orig_nbformat": 4,
  "vscode": {
   "interpreter": {
    "hash": "3ad933181bd8a04b432d3370b9dc3b0662ad032c4dfaa4e4f1596c548f763858"
   }
  }
 },
 "nbformat": 4,
 "nbformat_minor": 2
}

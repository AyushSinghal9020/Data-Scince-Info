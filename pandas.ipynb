{
 "cells": [
  {
   "attachments": {},
   "cell_type": "markdown",
   "metadata": {},
   "source": [
    "# Pandas"
   ]
  },
  {
   "attachments": {},
   "cell_type": "markdown",
   "metadata": {},
   "source": [
    "* `pandas.DataFrame()` = puts the data tye into `data frame`/`csv` type file \n",
    "1. `filename` = name of the file \n",
    "2. `filepath` = path of the file\n",
    "3. `index` = defines the indexing of the dataframe \n",
    "4. `dtype` = allows only a certain data type to enterinto the data frame \n",
    "* * `pandas.DataFrme.to_csv()` = saves the file into a csv format in local directory \n",
    "1. `columns` = name of the columns to add\n",
    "2. `header` = names of the columns as a string or list \n",
    "3. `index` = name of the index as a string or a list \n",
    "4. `mode` = mode of the file to be saved in \n",
    "5. `chunksize` = rows to render at a time\n",
    "6. `date_format` = changes the format of date\n",
    "* * `pandas.DataFrame.to_numpy` = changes the data frame to numpy array \n",
    "1. `filename` = name of the file \n",
    "2. `filepath` = path of the file \n",
    "3. `na_values` = values to be used for missing/none values\n",
    "* * `pandas.DataFrame.head()` = shows the head of the data frame\n",
    "1. `n` = number of rows from the head to be displayed\n",
    "* * `pandas.DataFrame.tail()` = shows the tail of the data frame\n",
    "1. `n` = number of rows from the tail to be displayed\n",
    "* * `pandas.DataFrame.describe()` = displays a descriptive format of the data\n",
    "1. `include` = columns to be included in the format\n",
    "2. `exclude` = columns to be excluded in the format\n",
    "3. `datetime_is_numeric` = wether to consider datetime as numeric or not \n",
    "* * `pandas.DataFrame.shape` = returns the shape of the data frame in mxn format\n",
    "* * `pandas.DataFrame.info` = retruns the summary of the data frame \n",
    "* * `pandas.DataFrame.index` = shows only the indexes of the data frame in a list \n",
    "* * `pandas.DataFrame.columns` = shows only the columns of the data frane in a list \n",
    "* * `pandas.DataFrame.dtype` = shows the data types in the data frame\n",
    "* * `pandas.DataFrame.isnull` = shows wether the daat field is null or not \n",
    "* * `pandas.DataFrame.loc` = access a particular field of data from the data frame\n",
    "* * `pandas.DataFrame.iloc` = access a particular field of data from the data frame through integer location selection  \n",
    "* * `pandas.DataFrame.copy` = copies the data into the variable \n",
    "* * `pandas.DataFrame.transpose()` = returns the transpose of the data \n",
    "1. `inplace` = create a new data frame or modify the original one \n",
    "* * `pandas.DataFrame.sort_index()` = sorts the data frame \n",
    "1. `axis` = wether to sort wrt row or column \n",
    "2. `ascending` = sort ascending or descnding\n",
    "3. `inplace` = create a new data frame or modify the original one \n",
    "4. `kind` = kind of sorting to use \n",
    "* * `pandas.DataFrame.drop` = drops the feild of data from the data frame \n",
    "1. `labels` = field of data to be dropped\n",
    "2. `axis` = wether to modify wrt row or column \n",
    "3. `inplace` = create a new data frame or modify the original one\n",
    "* * `pandas.DataFrame.reset_index` = resetsthe indexing of the data frame \n",
    "1. `inplace` = create a new data frame or modify the original one\n",
    "2. `drop` = drop the index column or not \n",
    "* * `pandas.DataFrame.dropna` = drops the rows with the values null in them\n",
    "1. `inplace` = create a new data frame or modify the original one\n",
    "2. `axis` = wether to modify wrt row or column \n",
    "* * `pandas.DataFrame.drop_duplicates` = drops the duplicaes values from the daat frame \n",
    "1. `inplace` = create a new data frame or modify the original one\n",
    "* `pandas.Series` = creates a one-dimension array \n",
    "1. `filename` = name of the file\n",
    "2. `filepath` = path to the file \n",
    " "
   ]
  }
 ],
 "metadata": {
  "kernelspec": {
   "display_name": "Python 3",
   "language": "python",
   "name": "python3"
  },
  "language_info": {
   "name": "python",
   "version": "3.10.4 (main, Nov 29 2022, 20:00:25) [GCC 9.4.0]"
  },
  "orig_nbformat": 4,
  "vscode": {
   "interpreter": {
    "hash": "3ad933181bd8a04b432d3370b9dc3b0662ad032c4dfaa4e4f1596c548f763858"
   }
  }
 },
 "nbformat": 4,
 "nbformat_minor": 2
}
